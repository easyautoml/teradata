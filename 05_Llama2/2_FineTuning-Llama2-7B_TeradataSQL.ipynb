{
 "cells": [
  {
   "cell_type": "code",
   "execution_count": null,
   "id": "CsCImf-u3lA_",
   "metadata": {
    "id": "CsCImf-u3lA_"
   },
   "outputs": [],
   "source": [
    "!pip install -q accelerate==0.21.0 peft==0.4.0 bitsandbytes==0.40.2 transformers==4.31.0 trl==0.4.7 langchain"
   ]
  },
  {
   "cell_type": "code",
   "execution_count": 1,
   "id": "1c265925-9fa0-4d1b-9c26-e9301189fc87",
   "metadata": {
    "executionInfo": {
     "elapsed": 235,
     "status": "ok",
     "timestamp": 1708129400135,
     "user": {
      "displayName": "LUC NGUYEN MANH",
      "userId": "17963881608411381207"
     },
     "user_tz": -540
    },
    "id": "1c265925-9fa0-4d1b-9c26-e9301189fc87"
   },
   "outputs": [
    {
     "name": "stderr",
     "output_type": "stream",
     "text": [
      "/home/user/miniconda3/envs/llama/lib/python3.10/site-packages/tqdm/auto.py:21: TqdmWarning: IProgress not found. Please update jupyter and ipywidgets. See https://ipywidgets.readthedocs.io/en/stable/user_install.html\n",
      "  from .autonotebook import tqdm as notebook_tqdm\n"
     ]
    }
   ],
   "source": [
    "import os\n",
    "import torch\n",
    "from transformers import AutoModelForCausalLM, AutoTokenizer, Trainer, TrainingArguments, BitsAndBytesConfig, Trainer, pipeline\n",
    "from peft import LoraConfig\n",
    "from datasets import Dataset\n",
    "from langchain.prompts.prompt import PromptTemplate\n",
    "\n",
    "from trl import SFTTrainer\n",
    "from peft import PeftModel\n",
    "\n",
    "import pandas as pd"
   ]
  },
  {
   "cell_type": "code",
   "execution_count": 3,
   "id": "o_5MBviW_MfE",
   "metadata": {
    "colab": {
     "base_uri": "https://localhost:8080/"
    },
    "executionInfo": {
     "elapsed": 167027,
     "status": "ok",
     "timestamp": 1708128855186,
     "user": {
      "displayName": "LUC NGUYEN MANH",
      "userId": "17963881608411381207"
     },
     "user_tz": -540
    },
    "id": "o_5MBviW_MfE",
    "outputId": "679aea20-9115-43b4-d511-0c9cbb3418b7"
   },
   "outputs": [
    {
     "name": "stdout",
     "output_type": "stream",
     "text": [
      "Mounted at /content/drive\n"
     ]
    }
   ],
   "source": [
    "from google.colab import drive\n",
    "drive.mount('/content/drive')"
   ]
  },
  {
   "cell_type": "code",
   "execution_count": 4,
   "id": "10c619b5-c884-4aa6-8a15-4d39ce9ec2d1",
   "metadata": {
    "executionInfo": {
     "elapsed": 9,
     "status": "ok",
     "timestamp": 1708127038204,
     "user": {
      "displayName": "LUC NGUYEN MANH",
      "userId": "17963881608411381207"
     },
     "user_tz": -540
    },
    "id": "10c619b5-c884-4aa6-8a15-4d39ce9ec2d1"
   },
   "outputs": [],
   "source": [
    "model_name = \"NousResearch/Llama-2-7b-chat-hf\"\n",
    "new_model = \"./finetune_models/llama2\""
   ]
  },
  {
   "cell_type": "markdown",
   "id": "1e05808c-5dbf-4391-85e4-b5e4d7cb593c",
   "metadata": {
    "id": "1e05808c-5dbf-4391-85e4-b5e4d7cb593c"
   },
   "source": [
    "# 1. Load based model"
   ]
  },
  {
   "cell_type": "code",
   "execution_count": null,
   "id": "d8401367-0283-4bec-963a-54908922c034",
   "metadata": {
    "id": "d8401367-0283-4bec-963a-54908922c034"
   },
   "outputs": [],
   "source": [
    "compute_dtype = getattr(torch, \"float16\")\n",
    "\n",
    "quant_config = BitsAndBytesConfig(\n",
    "    load_in_4bit=True,\n",
    "    bnb_4bit_quant_type=\"nf4\",\n",
    "    bnb_4bit_compute_dtype=compute_dtype,\n",
    "    bnb_4bit_use_double_quant=False,\n",
    ")\n",
    "\n",
    "tokenizer = AutoTokenizer.from_pretrained(model_name, trust_remote_code=True)"
   ]
  },
  {
   "cell_type": "code",
   "execution_count": null,
   "id": "qav1VNvs3s7D",
   "metadata": {
    "id": "qav1VNvs3s7D"
   },
   "outputs": [],
   "source": [
    "# based_model = AutoModelForCausalLM.from_pretrained(model_name, quantization_config=bnb_config, device_map={\"\":0})\n",
    "\n",
    "model = AutoModelForCausalLM.from_pretrained(\n",
    "    model_name,\n",
    "    quantization_config=quant_config,\n",
    "    device_map={\"\":0}\n",
    ")"
   ]
  },
  {
   "cell_type": "markdown",
   "id": "3b142288-ac6b-4feb-89e3-18af7966c52a",
   "metadata": {
    "id": "3b142288-ac6b-4feb-89e3-18af7966c52a"
   },
   "source": [
    "# 2. Prepare Dataset"
   ]
  },
  {
   "cell_type": "markdown",
   "id": "8e5d1ea0-c93f-4ee6-9a53-619f51e2bb6d",
   "metadata": {
    "id": "8e5d1ea0-c93f-4ee6-9a53-619f51e2bb6d"
   },
   "source": [
    "Dataset used to fine-tuning Llama must following structure :\n",
    "```\n",
    "<s>[INST] <<SYS>>\n",
    "{{ system_prompt }}\n",
    "<</SYS>>\n",
    "\n",
    "{{ user_message }} [/INST]\n",
    "```"
   ]
  },
  {
   "cell_type": "markdown",
   "id": "1373a352-67ac-4a80-aaa4-4794efe41e17",
   "metadata": {
    "id": "1373a352-67ac-4a80-aaa4-4794efe41e17"
   },
   "source": [
    "**For example :**\n",
    "\n",
    "```CMD\n",
    "<s>[INST] <<SYS>>\n",
    "You are a helpful, respectful and honest assistant. Always answer as helpfully as possible, while being safe.  Your answers should not include any harmful, unethical, racist, sexist, toxic, dangerous, or illegal content. Please ensure that your responses are socially unbiased and positive in nature.\n",
    "\n",
    "If a question does not make any sense, or is not factually coherent, explain why instead of answering something not correct. If you don't know the answer to a question, please don't share false information.\n",
    "<</SYS>>\n",
    "\n",
    "There's a llama in my garden 😱 What should I do? [/INST]\n",
    "\n",
    "```"
   ]
  },
  {
   "cell_type": "code",
   "execution_count": 2,
   "id": "BbYZOw-TDWhB",
   "metadata": {
    "executionInfo": {
     "elapsed": 761,
     "status": "ok",
     "timestamp": 1708127343333,
     "user": {
      "displayName": "LUC NGUYEN MANH",
      "userId": "17963881608411381207"
     },
     "user_tz": -540
    },
    "id": "BbYZOw-TDWhB"
   },
   "outputs": [],
   "source": [
    "df_data = pd.read_csv(\"./data/finetune_data_llama2b.csv\")"
   ]
  },
  {
   "cell_type": "code",
   "execution_count": 3,
   "id": "z5MUTvdkDbv9",
   "metadata": {
    "colab": {
     "base_uri": "https://localhost:8080/",
     "height": 293
    },
    "executionInfo": {
     "elapsed": 341,
     "status": "ok",
     "timestamp": 1708127381750,
     "user": {
      "displayName": "LUC NGUYEN MANH",
      "userId": "17963881608411381207"
     },
     "user_tz": -540
    },
    "id": "z5MUTvdkDbv9",
    "outputId": "22ae2b44-bf3b-4d66-c34c-c10902107022"
   },
   "outputs": [
    {
     "data": {
      "text/html": [
       "<div>\n",
       "<style scoped>\n",
       "    .dataframe tbody tr th:only-of-type {\n",
       "        vertical-align: middle;\n",
       "    }\n",
       "\n",
       "    .dataframe tbody tr th {\n",
       "        vertical-align: top;\n",
       "    }\n",
       "\n",
       "    .dataframe thead th {\n",
       "        text-align: right;\n",
       "    }\n",
       "</style>\n",
       "<table border=\"1\" class=\"dataframe\">\n",
       "  <thead>\n",
       "    <tr style=\"text-align: right;\">\n",
       "      <th></th>\n",
       "      <th>instruction</th>\n",
       "      <th>question</th>\n",
       "      <th>sql_tbl_1</th>\n",
       "      <th>sql_tbl_2</th>\n",
       "      <th>answer</th>\n",
       "    </tr>\n",
       "  </thead>\n",
       "  <tbody>\n",
       "    <tr>\n",
       "      <th>0</th>\n",
       "      <td>\\nYou are an agent designed to interact with a...</td>\n",
       "      <td>Calculate the distance between the 'user' and ...</td>\n",
       "      <td>\\n    CREATE TABLE user (\\n        user_id INT...</td>\n",
       "      <td>\\n    CREATE TABLE user_reference (\\n        u...</td>\n",
       "      <td>SELECT target_id, reference_id, distancetype, ...</td>\n",
       "    </tr>\n",
       "    <tr>\n",
       "      <th>1</th>\n",
       "      <td>\\nYou are an agent designed to interact with a...</td>\n",
       "      <td>Determine the distance between the 'item' and ...</td>\n",
       "      <td>\\n    CREATE TABLE item (\\n        item_id INT...</td>\n",
       "      <td>\\n    CREATE TABLE item_reference (\\n        i...</td>\n",
       "      <td>SELECT target_id, reference_id, distancetype, ...</td>\n",
       "    </tr>\n",
       "    <tr>\n",
       "      <th>2</th>\n",
       "      <td>\\nYou are an agent designed to interact with a...</td>\n",
       "      <td>Find the distance between the 'inventory' and ...</td>\n",
       "      <td>\\n    CREATE TABLE inventory (\\n        produc...</td>\n",
       "      <td>\\n    CREATE TABLE inventory_reference (\\n    ...</td>\n",
       "      <td>SELECT target_id, reference_id, distancetype, ...</td>\n",
       "    </tr>\n",
       "    <tr>\n",
       "      <th>3</th>\n",
       "      <td>\\nYou are an agent designed to interact with a...</td>\n",
       "      <td>Compute the distance between the 'user' and 'u...</td>\n",
       "      <td>\\n    CREATE TABLE user (\\n        user_id INT...</td>\n",
       "      <td>\\n    CREATE TABLE user_reference (\\n        u...</td>\n",
       "      <td>SELECT target_id, reference_id, distancetype, ...</td>\n",
       "    </tr>\n",
       "    <tr>\n",
       "      <th>4</th>\n",
       "      <td>\\nYou are an agent designed to interact with a...</td>\n",
       "      <td>Calculate the distance between the 'transactio...</td>\n",
       "      <td>\\n    CREATE TABLE transaction (\\n        tran...</td>\n",
       "      <td>\\n    CREATE TABLE transaction_reference (\\n  ...</td>\n",
       "      <td>SELECT target_id, reference_id, distancetype, ...</td>\n",
       "    </tr>\n",
       "  </tbody>\n",
       "</table>\n",
       "</div>"
      ],
      "text/plain": [
       "                                         instruction  \\\n",
       "0  \\nYou are an agent designed to interact with a...   \n",
       "1  \\nYou are an agent designed to interact with a...   \n",
       "2  \\nYou are an agent designed to interact with a...   \n",
       "3  \\nYou are an agent designed to interact with a...   \n",
       "4  \\nYou are an agent designed to interact with a...   \n",
       "\n",
       "                                            question  \\\n",
       "0  Calculate the distance between the 'user' and ...   \n",
       "1  Determine the distance between the 'item' and ...   \n",
       "2  Find the distance between the 'inventory' and ...   \n",
       "3  Compute the distance between the 'user' and 'u...   \n",
       "4  Calculate the distance between the 'transactio...   \n",
       "\n",
       "                                           sql_tbl_1  \\\n",
       "0  \\n    CREATE TABLE user (\\n        user_id INT...   \n",
       "1  \\n    CREATE TABLE item (\\n        item_id INT...   \n",
       "2  \\n    CREATE TABLE inventory (\\n        produc...   \n",
       "3  \\n    CREATE TABLE user (\\n        user_id INT...   \n",
       "4  \\n    CREATE TABLE transaction (\\n        tran...   \n",
       "\n",
       "                                           sql_tbl_2  \\\n",
       "0  \\n    CREATE TABLE user_reference (\\n        u...   \n",
       "1  \\n    CREATE TABLE item_reference (\\n        i...   \n",
       "2  \\n    CREATE TABLE inventory_reference (\\n    ...   \n",
       "3  \\n    CREATE TABLE user_reference (\\n        u...   \n",
       "4  \\n    CREATE TABLE transaction_reference (\\n  ...   \n",
       "\n",
       "                                              answer  \n",
       "0  SELECT target_id, reference_id, distancetype, ...  \n",
       "1  SELECT target_id, reference_id, distancetype, ...  \n",
       "2  SELECT target_id, reference_id, distancetype, ...  \n",
       "3  SELECT target_id, reference_id, distancetype, ...  \n",
       "4  SELECT target_id, reference_id, distancetype, ...  "
      ]
     },
     "execution_count": 3,
     "metadata": {},
     "output_type": "execute_result"
    }
   ],
   "source": [
    "df_data.head()"
   ]
  },
  {
   "cell_type": "markdown",
   "id": "dd2225e6-1644-4462-850d-80f56e4d7210",
   "metadata": {
    "id": "dd2225e6-1644-4462-850d-80f56e4d7210"
   },
   "source": [
    "**Convert prompt template**"
   ]
  },
  {
   "cell_type": "code",
   "execution_count": 4,
   "id": "53bc1004-d220-4f52-a9fc-b38cfd8af641",
   "metadata": {
    "executionInfo": {
     "elapsed": 348,
     "status": "ok",
     "timestamp": 1708127736663,
     "user": {
      "displayName": "LUC NGUYEN MANH",
      "userId": "17963881608411381207"
     },
     "user_tz": -540
    },
    "id": "53bc1004-d220-4f52-a9fc-b38cfd8af641"
   },
   "outputs": [],
   "source": [
    "prompt_template = PromptTemplate(\n",
    "    input_variables=[\"instruction\", \"sql_table_1\", \"sql_table_2\", \"question\", \"answer\"], template=\"<s>[INST] <<SYS>>{instruction}. Here is structure of table 1 {sql_table_1}, table 2 {sql_table_2}<</SYS>>{question}[/INST]{answer}</s>\"\n",
    ")\n",
    "\n",
    "prompt_data = []\n",
    "for i, row in df_data.iterrows():\n",
    "  prompt_data.append(prompt_template.format(instruction=row.instruction, sql_table_1=row.sql_tbl_1, sql_table_2=row.sql_tbl_2, question=row.question, answer=row.answer))\n",
    "\n",
    "dataset = Dataset.from_dict({\"inputs\": prompt_data})"
   ]
  },
  {
   "cell_type": "code",
   "execution_count": 5,
   "id": "3c56c1b6-eccb-447c-844d-9b599d853dc5",
   "metadata": {
    "colab": {
     "base_uri": "https://localhost:8080/"
    },
    "executionInfo": {
     "elapsed": 267,
     "status": "ok",
     "timestamp": 1708127757923,
     "user": {
      "displayName": "LUC NGUYEN MANH",
      "userId": "17963881608411381207"
     },
     "user_tz": -540
    },
    "id": "3c56c1b6-eccb-447c-844d-9b599d853dc5",
    "outputId": "9b77235f-ccb0-45ae-9e37-b582baeacdb3"
   },
   "outputs": [
    {
     "name": "stdout",
     "output_type": "stream",
     "text": [
      "<s>[INST] <<SYS>>\n",
      "You are an agent designed to interact with a SQL database.\n",
      "Given an input question, \n",
      "create a syntactically correct teradatasql query to run, then look at the results of the query and return the answer.\n",
      ". Here is structure of table 1 \n",
      "    CREATE TABLE inventory (\n",
      "        product_id INT PRIMARY KEY,\n",
      "        name VARCHAR(255),\n",
      "        description TEXT,\n",
      "        quantity INT,\n",
      "        price DECIMAL(10, 2)\n",
      "    );\n",
      "    , table 2 \n",
      "    CREATE TABLE inventory_reference (\n",
      "        product_id INT PRIMARY KEY,\n",
      "        name VARCHAR(255),\n",
      "        description TEXT,\n",
      "        quantity INT,\n",
      "        price DECIMAL(10, 2)\n",
      "    );\n",
      "    <</SYS>>Find the distance between the 'inventory' and 'inventory_reference' tables using TD_VectorDistance.[/INST]SELECT target_id, reference_id, distancetype, cast(distance as decimal(36,8)) as distance FROM TD_VECTORDISTANCE (\n",
      "    ON inventory AS TargetTable\n",
      "    ON inventory_reference AS ReferenceTable DIMENSION\n",
      "    USING\n",
      "        TargetIDColumn('product_id')\n",
      "        TargetFeatureColumns('quantity','price')\n",
      "        RefIDColumn('product_id')\n",
      "        RefFeatureColumns('quantity','price')\n",
      "        DistanceMeasure('euclidean','cosine','manhattan')\n",
      "        topk(2)\n",
      ") AS dt order by 3,1,2,4;</s>\n"
     ]
    }
   ],
   "source": [
    "print(dataset[2].get('inputs'))"
   ]
  },
  {
   "cell_type": "code",
   "execution_count": 7,
   "id": "uJkIuxvlERJ-",
   "metadata": {
    "colab": {
     "base_uri": "https://localhost:8080/"
    },
    "executionInfo": {
     "elapsed": 267,
     "status": "ok",
     "timestamp": 1708127788963,
     "user": {
      "displayName": "LUC NGUYEN MANH",
      "userId": "17963881608411381207"
     },
     "user_tz": -540
    },
    "id": "uJkIuxvlERJ-",
    "outputId": "a8ba9b31-7d7e-4fba-808c-69c3c307e6f2"
   },
   "outputs": [
    {
     "name": "stderr",
     "output_type": "stream",
     "text": [
      "Creating json from Arrow format: 100%|████████████████████████████████████████████████████| 1/1 [00:00<00:00, 89.52ba/s]\n"
     ]
    },
    {
     "data": {
      "text/plain": [
       "107132"
      ]
     },
     "execution_count": 7,
     "metadata": {},
     "output_type": "execute_result"
    }
   ],
   "source": [
    "dataset.to_json(\"./data/finetune_data.json\")"
   ]
  },
  {
   "cell_type": "markdown",
   "id": "40f26097-aa5a-4f40-bd46-b4195768d5ea",
   "metadata": {
    "id": "40f26097-aa5a-4f40-bd46-b4195768d5ea"
   },
   "source": [
    "# 3. FineTuning"
   ]
  },
  {
   "cell_type": "code",
   "execution_count": 17,
   "id": "85215578-445b-468b-9485-94f6ebf1721e",
   "metadata": {
    "executionInfo": {
     "elapsed": 283,
     "status": "ok",
     "timestamp": 1708127792256,
     "user": {
      "displayName": "LUC NGUYEN MANH",
      "userId": "17963881608411381207"
     },
     "user_tz": -540
    },
    "id": "85215578-445b-468b-9485-94f6ebf1721e"
   },
   "outputs": [],
   "source": [
    "tokenizer.pad_token = tokenizer.eos_token\n",
    "tokenizer.padding_side = \"right\"\n",
    "\n",
    "model.config.use_cache = False\n",
    "model.config.pretraining_tp = 1"
   ]
  },
  {
   "cell_type": "code",
   "execution_count": 18,
   "id": "b539af5d-df5b-4480-9557-ede26ac23525",
   "metadata": {
    "executionInfo": {
     "elapsed": 269,
     "status": "ok",
     "timestamp": 1708127793766,
     "user": {
      "displayName": "LUC NGUYEN MANH",
      "userId": "17963881608411381207"
     },
     "user_tz": -540
    },
    "id": "b539af5d-df5b-4480-9557-ede26ac23525"
   },
   "outputs": [],
   "source": [
    "peft_params = LoraConfig(\n",
    "    r=32,\n",
    "    lora_alpha=32,\n",
    "    lora_dropout=0.1,\n",
    "    bias=\"none\",\n",
    "    task_type=\"CAUSAL_LM\",\n",
    ")"
   ]
  },
  {
   "cell_type": "code",
   "execution_count": 19,
   "id": "5f3be6dc-3a0a-4fc7-b630-7fb2a26e9767",
   "metadata": {
    "executionInfo": {
     "elapsed": 274,
     "status": "ok",
     "timestamp": 1708127796008,
     "user": {
      "displayName": "LUC NGUYEN MANH",
      "userId": "17963881608411381207"
     },
     "user_tz": -540
    },
    "id": "5f3be6dc-3a0a-4fc7-b630-7fb2a26e9767"
   },
   "outputs": [],
   "source": [
    "training_params = TrainingArguments(\n",
    "    output_dir=\"./results\",\n",
    "    num_train_epochs=5,\n",
    "    per_device_train_batch_size=4,\n",
    "    gradient_accumulation_steps=1,\n",
    "    logging_steps=1,\n",
    "    learning_rate=2e-4,\n",
    "    fp16=True\n",
    ")"
   ]
  },
  {
   "cell_type": "code",
   "execution_count": null,
   "id": "da1d422f-4929-4ce3-b1b2-a095d5fd7634",
   "metadata": {
    "id": "da1d422f-4929-4ce3-b1b2-a095d5fd7634"
   },
   "outputs": [],
   "source": [
    "trainer = SFTTrainer(\n",
    "    model=model,\n",
    "    train_dataset=dataset,\n",
    "    peft_config=peft_params,\n",
    "    dataset_text_field=\"inputs\",\n",
    "    max_seq_length=None,\n",
    "    tokenizer=tokenizer,\n",
    "    args=training_params,\n",
    "    packing=False,\n",
    ")"
   ]
  },
  {
   "cell_type": "code",
   "execution_count": 21,
   "id": "20197c17-37a4-498d-bcb0-607c7c003328",
   "metadata": {
    "colab": {
     "base_uri": "https://localhost:8080/",
     "height": 1000
    },
    "executionInfo": {
     "elapsed": 559869,
     "status": "ok",
     "timestamp": 1708128367973,
     "user": {
      "displayName": "LUC NGUYEN MANH",
      "userId": "17963881608411381207"
     },
     "user_tz": -540
    },
    "id": "20197c17-37a4-498d-bcb0-607c7c003328",
    "outputId": "937343dc-4284-4e6b-f8d6-4be54e9ac10d"
   },
   "outputs": [
    {
     "name": "stderr",
     "output_type": "stream",
     "text": [
      "/usr/local/lib/python3.10/dist-packages/transformers/optimization.py:411: FutureWarning: This implementation of AdamW is deprecated and will be removed in a future version. Use the PyTorch implementation torch.optim.AdamW instead, or set `no_deprecation_warning=True` to disable this warning\n",
      "  warnings.warn(\n",
      "You're using a LlamaTokenizerFast tokenizer. Please note that with a fast tokenizer, using the `__call__` method is faster than using a method to encode the text followed by a call to the `pad` method to get a padded encoding.\n",
      "/usr/local/lib/python3.10/dist-packages/torch/utils/checkpoint.py:429: UserWarning: torch.utils.checkpoint: please pass in use_reentrant=True or use_reentrant=False explicitly. The default value of use_reentrant will be updated to be False in the future. To maintain current behavior, pass use_reentrant=True. It is recommended that you use use_reentrant=False. Refer to docs for more details on the differences between the two variants.\n",
      "  warnings.warn(\n"
     ]
    },
    {
     "data": {
      "text/html": [
       "\n",
       "    <div>\n",
       "      \n",
       "      <progress value='95' max='95' style='width:300px; height:20px; vertical-align: middle;'></progress>\n",
       "      [95/95 09:12, Epoch 5/5]\n",
       "    </div>\n",
       "    <table border=\"1\" class=\"dataframe\">\n",
       "  <thead>\n",
       " <tr style=\"text-align: left;\">\n",
       "      <th>Step</th>\n",
       "      <th>Training Loss</th>\n",
       "    </tr>\n",
       "  </thead>\n",
       "  <tbody>\n",
       "    <tr>\n",
       "      <td>1</td>\n",
       "      <td>2.574800</td>\n",
       "    </tr>\n",
       "    <tr>\n",
       "      <td>2</td>\n",
       "      <td>2.521100</td>\n",
       "    </tr>\n",
       "    <tr>\n",
       "      <td>3</td>\n",
       "      <td>2.215500</td>\n",
       "    </tr>\n",
       "    <tr>\n",
       "      <td>4</td>\n",
       "      <td>2.028700</td>\n",
       "    </tr>\n",
       "    <tr>\n",
       "      <td>5</td>\n",
       "      <td>1.845000</td>\n",
       "    </tr>\n",
       "    <tr>\n",
       "      <td>6</td>\n",
       "      <td>1.681900</td>\n",
       "    </tr>\n",
       "    <tr>\n",
       "      <td>7</td>\n",
       "      <td>1.584600</td>\n",
       "    </tr>\n",
       "    <tr>\n",
       "      <td>8</td>\n",
       "      <td>1.463100</td>\n",
       "    </tr>\n",
       "    <tr>\n",
       "      <td>9</td>\n",
       "      <td>1.321500</td>\n",
       "    </tr>\n",
       "    <tr>\n",
       "      <td>10</td>\n",
       "      <td>1.221700</td>\n",
       "    </tr>\n",
       "    <tr>\n",
       "      <td>11</td>\n",
       "      <td>1.139100</td>\n",
       "    </tr>\n",
       "    <tr>\n",
       "      <td>12</td>\n",
       "      <td>1.048300</td>\n",
       "    </tr>\n",
       "    <tr>\n",
       "      <td>13</td>\n",
       "      <td>0.865400</td>\n",
       "    </tr>\n",
       "    <tr>\n",
       "      <td>14</td>\n",
       "      <td>0.812000</td>\n",
       "    </tr>\n",
       "    <tr>\n",
       "      <td>15</td>\n",
       "      <td>0.643800</td>\n",
       "    </tr>\n",
       "    <tr>\n",
       "      <td>16</td>\n",
       "      <td>0.599200</td>\n",
       "    </tr>\n",
       "    <tr>\n",
       "      <td>17</td>\n",
       "      <td>0.469300</td>\n",
       "    </tr>\n",
       "    <tr>\n",
       "      <td>18</td>\n",
       "      <td>0.405000</td>\n",
       "    </tr>\n",
       "    <tr>\n",
       "      <td>19</td>\n",
       "      <td>0.367900</td>\n",
       "    </tr>\n",
       "    <tr>\n",
       "      <td>20</td>\n",
       "      <td>0.306100</td>\n",
       "    </tr>\n",
       "    <tr>\n",
       "      <td>21</td>\n",
       "      <td>0.283100</td>\n",
       "    </tr>\n",
       "    <tr>\n",
       "      <td>22</td>\n",
       "      <td>0.283500</td>\n",
       "    </tr>\n",
       "    <tr>\n",
       "      <td>23</td>\n",
       "      <td>0.218000</td>\n",
       "    </tr>\n",
       "    <tr>\n",
       "      <td>24</td>\n",
       "      <td>0.169100</td>\n",
       "    </tr>\n",
       "    <tr>\n",
       "      <td>25</td>\n",
       "      <td>0.136800</td>\n",
       "    </tr>\n",
       "    <tr>\n",
       "      <td>26</td>\n",
       "      <td>0.109700</td>\n",
       "    </tr>\n",
       "    <tr>\n",
       "      <td>27</td>\n",
       "      <td>0.167000</td>\n",
       "    </tr>\n",
       "    <tr>\n",
       "      <td>28</td>\n",
       "      <td>0.089400</td>\n",
       "    </tr>\n",
       "    <tr>\n",
       "      <td>29</td>\n",
       "      <td>0.091300</td>\n",
       "    </tr>\n",
       "    <tr>\n",
       "      <td>30</td>\n",
       "      <td>0.093200</td>\n",
       "    </tr>\n",
       "    <tr>\n",
       "      <td>31</td>\n",
       "      <td>0.074700</td>\n",
       "    </tr>\n",
       "    <tr>\n",
       "      <td>32</td>\n",
       "      <td>0.066000</td>\n",
       "    </tr>\n",
       "    <tr>\n",
       "      <td>33</td>\n",
       "      <td>0.114700</td>\n",
       "    </tr>\n",
       "    <tr>\n",
       "      <td>34</td>\n",
       "      <td>0.099500</td>\n",
       "    </tr>\n",
       "    <tr>\n",
       "      <td>35</td>\n",
       "      <td>0.092100</td>\n",
       "    </tr>\n",
       "    <tr>\n",
       "      <td>36</td>\n",
       "      <td>0.084700</td>\n",
       "    </tr>\n",
       "    <tr>\n",
       "      <td>37</td>\n",
       "      <td>0.029000</td>\n",
       "    </tr>\n",
       "    <tr>\n",
       "      <td>38</td>\n",
       "      <td>0.046200</td>\n",
       "    </tr>\n",
       "    <tr>\n",
       "      <td>39</td>\n",
       "      <td>0.048400</td>\n",
       "    </tr>\n",
       "    <tr>\n",
       "      <td>40</td>\n",
       "      <td>0.034400</td>\n",
       "    </tr>\n",
       "    <tr>\n",
       "      <td>41</td>\n",
       "      <td>0.046000</td>\n",
       "    </tr>\n",
       "    <tr>\n",
       "      <td>42</td>\n",
       "      <td>0.028300</td>\n",
       "    </tr>\n",
       "    <tr>\n",
       "      <td>43</td>\n",
       "      <td>0.030200</td>\n",
       "    </tr>\n",
       "    <tr>\n",
       "      <td>44</td>\n",
       "      <td>0.043200</td>\n",
       "    </tr>\n",
       "    <tr>\n",
       "      <td>45</td>\n",
       "      <td>0.034200</td>\n",
       "    </tr>\n",
       "    <tr>\n",
       "      <td>46</td>\n",
       "      <td>0.060600</td>\n",
       "    </tr>\n",
       "    <tr>\n",
       "      <td>47</td>\n",
       "      <td>0.030500</td>\n",
       "    </tr>\n",
       "    <tr>\n",
       "      <td>48</td>\n",
       "      <td>0.024300</td>\n",
       "    </tr>\n",
       "    <tr>\n",
       "      <td>49</td>\n",
       "      <td>0.025400</td>\n",
       "    </tr>\n",
       "    <tr>\n",
       "      <td>50</td>\n",
       "      <td>0.024900</td>\n",
       "    </tr>\n",
       "    <tr>\n",
       "      <td>51</td>\n",
       "      <td>0.023100</td>\n",
       "    </tr>\n",
       "    <tr>\n",
       "      <td>52</td>\n",
       "      <td>0.019100</td>\n",
       "    </tr>\n",
       "    <tr>\n",
       "      <td>53</td>\n",
       "      <td>0.017600</td>\n",
       "    </tr>\n",
       "    <tr>\n",
       "      <td>54</td>\n",
       "      <td>0.024900</td>\n",
       "    </tr>\n",
       "    <tr>\n",
       "      <td>55</td>\n",
       "      <td>0.030700</td>\n",
       "    </tr>\n",
       "    <tr>\n",
       "      <td>56</td>\n",
       "      <td>0.022400</td>\n",
       "    </tr>\n",
       "    <tr>\n",
       "      <td>57</td>\n",
       "      <td>0.019600</td>\n",
       "    </tr>\n",
       "    <tr>\n",
       "      <td>58</td>\n",
       "      <td>0.020500</td>\n",
       "    </tr>\n",
       "    <tr>\n",
       "      <td>59</td>\n",
       "      <td>0.018800</td>\n",
       "    </tr>\n",
       "    <tr>\n",
       "      <td>60</td>\n",
       "      <td>0.014200</td>\n",
       "    </tr>\n",
       "    <tr>\n",
       "      <td>61</td>\n",
       "      <td>0.016900</td>\n",
       "    </tr>\n",
       "    <tr>\n",
       "      <td>62</td>\n",
       "      <td>0.015100</td>\n",
       "    </tr>\n",
       "    <tr>\n",
       "      <td>63</td>\n",
       "      <td>0.029100</td>\n",
       "    </tr>\n",
       "    <tr>\n",
       "      <td>64</td>\n",
       "      <td>0.017500</td>\n",
       "    </tr>\n",
       "    <tr>\n",
       "      <td>65</td>\n",
       "      <td>0.031700</td>\n",
       "    </tr>\n",
       "    <tr>\n",
       "      <td>66</td>\n",
       "      <td>0.020600</td>\n",
       "    </tr>\n",
       "    <tr>\n",
       "      <td>67</td>\n",
       "      <td>0.022200</td>\n",
       "    </tr>\n",
       "    <tr>\n",
       "      <td>68</td>\n",
       "      <td>0.021200</td>\n",
       "    </tr>\n",
       "    <tr>\n",
       "      <td>69</td>\n",
       "      <td>0.039500</td>\n",
       "    </tr>\n",
       "    <tr>\n",
       "      <td>70</td>\n",
       "      <td>0.033600</td>\n",
       "    </tr>\n",
       "    <tr>\n",
       "      <td>71</td>\n",
       "      <td>0.016700</td>\n",
       "    </tr>\n",
       "    <tr>\n",
       "      <td>72</td>\n",
       "      <td>0.021200</td>\n",
       "    </tr>\n",
       "    <tr>\n",
       "      <td>73</td>\n",
       "      <td>0.015900</td>\n",
       "    </tr>\n",
       "    <tr>\n",
       "      <td>74</td>\n",
       "      <td>0.015600</td>\n",
       "    </tr>\n",
       "    <tr>\n",
       "      <td>75</td>\n",
       "      <td>0.050900</td>\n",
       "    </tr>\n",
       "    <tr>\n",
       "      <td>76</td>\n",
       "      <td>0.016900</td>\n",
       "    </tr>\n",
       "    <tr>\n",
       "      <td>77</td>\n",
       "      <td>0.028600</td>\n",
       "    </tr>\n",
       "    <tr>\n",
       "      <td>78</td>\n",
       "      <td>0.017400</td>\n",
       "    </tr>\n",
       "    <tr>\n",
       "      <td>79</td>\n",
       "      <td>0.016400</td>\n",
       "    </tr>\n",
       "    <tr>\n",
       "      <td>80</td>\n",
       "      <td>0.017000</td>\n",
       "    </tr>\n",
       "    <tr>\n",
       "      <td>81</td>\n",
       "      <td>0.041500</td>\n",
       "    </tr>\n",
       "    <tr>\n",
       "      <td>82</td>\n",
       "      <td>0.013100</td>\n",
       "    </tr>\n",
       "    <tr>\n",
       "      <td>83</td>\n",
       "      <td>0.022800</td>\n",
       "    </tr>\n",
       "    <tr>\n",
       "      <td>84</td>\n",
       "      <td>0.019000</td>\n",
       "    </tr>\n",
       "    <tr>\n",
       "      <td>85</td>\n",
       "      <td>0.014400</td>\n",
       "    </tr>\n",
       "    <tr>\n",
       "      <td>86</td>\n",
       "      <td>0.014700</td>\n",
       "    </tr>\n",
       "    <tr>\n",
       "      <td>87</td>\n",
       "      <td>0.023000</td>\n",
       "    </tr>\n",
       "    <tr>\n",
       "      <td>88</td>\n",
       "      <td>0.016900</td>\n",
       "    </tr>\n",
       "    <tr>\n",
       "      <td>89</td>\n",
       "      <td>0.029800</td>\n",
       "    </tr>\n",
       "    <tr>\n",
       "      <td>90</td>\n",
       "      <td>0.017900</td>\n",
       "    </tr>\n",
       "    <tr>\n",
       "      <td>91</td>\n",
       "      <td>0.017700</td>\n",
       "    </tr>\n",
       "    <tr>\n",
       "      <td>92</td>\n",
       "      <td>0.020700</td>\n",
       "    </tr>\n",
       "    <tr>\n",
       "      <td>93</td>\n",
       "      <td>0.014400</td>\n",
       "    </tr>\n",
       "    <tr>\n",
       "      <td>94</td>\n",
       "      <td>0.019300</td>\n",
       "    </tr>\n",
       "    <tr>\n",
       "      <td>95</td>\n",
       "      <td>0.025400</td>\n",
       "    </tr>\n",
       "  </tbody>\n",
       "</table><p>"
      ],
      "text/plain": [
       "<IPython.core.display.HTML object>"
      ]
     },
     "metadata": {},
     "output_type": "display_data"
    },
    {
     "data": {
      "text/plain": [
       "TrainOutput(global_step=95, training_loss=0.30292751963593456, metrics={'train_runtime': 559.4676, 'train_samples_per_second': 0.679, 'train_steps_per_second': 0.17, 'total_flos': 3329827315974144.0, 'train_loss': 0.30292751963593456, 'epoch': 5.0})"
      ]
     },
     "execution_count": 21,
     "metadata": {},
     "output_type": "execute_result"
    }
   ],
   "source": [
    "trainer.train()"
   ]
  },
  {
   "cell_type": "markdown",
   "id": "b0e7c485-83d3-4778-a50c-ef7957cbc002",
   "metadata": {
    "id": "b0e7c485-83d3-4778-a50c-ef7957cbc002"
   },
   "source": [
    "# 4. Save model"
   ]
  },
  {
   "cell_type": "code",
   "execution_count": 22,
   "id": "c6e7ab9f-bb04-441e-af07-df43274fea40",
   "metadata": {
    "colab": {
     "base_uri": "https://localhost:8080/"
    },
    "executionInfo": {
     "elapsed": 454,
     "status": "ok",
     "timestamp": 1708128368416,
     "user": {
      "displayName": "LUC NGUYEN MANH",
      "userId": "17963881608411381207"
     },
     "user_tz": -540
    },
    "id": "c6e7ab9f-bb04-441e-af07-df43274fea40",
    "outputId": "331b0ae8-e531-40a5-cfd0-6a22bed5cc36"
   },
   "outputs": [
    {
     "data": {
      "text/plain": [
       "('./drive/MyDrive/finetune_model/llama2_taradata/tokenizer_config.json',\n",
       " './drive/MyDrive/finetune_model/llama2_taradata/special_tokens_map.json',\n",
       " './drive/MyDrive/finetune_model/llama2_taradata/tokenizer.model',\n",
       " './drive/MyDrive/finetune_model/llama2_taradata/added_tokens.json',\n",
       " './drive/MyDrive/finetune_model/llama2_taradata/tokenizer.json')"
      ]
     },
     "execution_count": 22,
     "metadata": {},
     "output_type": "execute_result"
    }
   ],
   "source": [
    "new_model = \"./drive/MyDrive/finetune_model/llama2_taradata\"\n",
    "\n",
    "trainer.model.save_pretrained(new_model)\n",
    "trainer.tokenizer.save_pretrained(new_model)"
   ]
  },
  {
   "cell_type": "markdown",
   "id": "a01f40db-c2bb-4faa-bca2-732fc5540784",
   "metadata": {
    "id": "a01f40db-c2bb-4faa-bca2-732fc5540784"
   },
   "source": [
    "# 5. Reload and predict"
   ]
  },
  {
   "cell_type": "markdown",
   "id": "09844a08-d773-4f1e-8e8c-1365b7cc4240",
   "metadata": {
    "id": "auUKCzo-eTqh"
   },
   "source": [
    "If you're using Google Colab T4, you need to restart the notebook to free up memory used during the fine-tuning step. After that, please rerun from this point onward."
   ]
  },
  {
   "cell_type": "code",
   "execution_count": 4,
   "id": "TGy5PYk4LOck",
   "metadata": {
    "executionInfo": {
     "elapsed": 281,
     "status": "ok",
     "timestamp": 1708128866715,
     "user": {
      "displayName": "LUC NGUYEN MANH",
      "userId": "17963881608411381207"
     },
     "user_tz": -540
    },
    "id": "TGy5PYk4LOck"
   },
   "outputs": [],
   "source": [
    "model_name = \"NousResearch/Llama-2-7b-chat-hf\"\n",
    "new_model = \"./drive/MyDrive/finetune_model/llama2_taradata\""
   ]
  },
  {
   "cell_type": "code",
   "execution_count": null,
   "id": "0fc35b6b-3ec7-4649-bb98-c1cf85821a02",
   "metadata": {
    "id": "0fc35b6b-3ec7-4649-bb98-c1cf85821a02"
   },
   "outputs": [],
   "source": [
    "# 1. Load based model\n",
    "base_model = AutoModelForCausalLM.from_pretrained(model_name,\n",
    "    low_cpu_mem_usage=True,\n",
    "    return_dict=True,\n",
    "    torch_dtype=torch.float16,\n",
    "    device_map={\"\": 0},\n",
    ")"
   ]
  },
  {
   "cell_type": "code",
   "execution_count": 12,
   "id": "8ca48915-feed-4371-b645-f3a9daf6cbe0",
   "metadata": {
    "executionInfo": {
     "elapsed": 30498,
     "status": "ok",
     "timestamp": 1708129435350,
     "user": {
      "displayName": "LUC NGUYEN MANH",
      "userId": "17963881608411381207"
     },
     "user_tz": -540
    },
    "id": "8ca48915-feed-4371-b645-f3a9daf6cbe0"
   },
   "outputs": [],
   "source": [
    "# 2. Load new fine-tuned model. Then merge this two model\n",
    "finetuned_model = PeftModel.from_pretrained(base_model, new_model)\n",
    "merged_model = finetuned_model.merge_and_unload()"
   ]
  },
  {
   "cell_type": "code",
   "execution_count": null,
   "id": "36883c08-1757-450c-a1da-5ce6d8f7bebb",
   "metadata": {
    "id": "36883c08-1757-450c-a1da-5ce6d8f7bebb"
   },
   "outputs": [],
   "source": [
    "# 3. Load tokenizer,\n",
    "tokenizer = AutoTokenizer.from_pretrained(model_name, add_eos_token=True)\n",
    "tokenizer.pad_token = tokenizer.eos_token\n",
    "tokenizer.padding_side = \"right\""
   ]
  },
  {
   "cell_type": "code",
   "execution_count": 19,
   "id": "ee894f93-2b77-4e68-b4f6-fe1dd987ffaf",
   "metadata": {
    "executionInfo": {
     "elapsed": 258,
     "status": "ok",
     "timestamp": 1708129562452,
     "user": {
      "displayName": "LUC NGUYEN MANH",
      "userId": "17963881608411381207"
     },
     "user_tz": -540
    },
    "id": "ee894f93-2b77-4e68-b4f6-fe1dd987ffaf"
   },
   "outputs": [],
   "source": [
    "# 4. Define pipeline\n",
    "pipe = pipeline(task=\"text-generation\", model=merged_model, tokenizer=tokenizer, max_length=2000)"
   ]
  },
  {
   "cell_type": "code",
   "execution_count": null,
   "id": "N2lyqKStbFmP",
   "metadata": {
    "executionInfo": {
     "elapsed": 3,
     "status": "aborted",
     "timestamp": 1708129058345,
     "user": {
      "displayName": "LUC NGUYEN MANH",
      "userId": "17963881608411381207"
     },
     "user_tz": -540
    },
    "id": "N2lyqKStbFmP"
   },
   "outputs": [],
   "source": []
  },
  {
   "cell_type": "code",
   "execution_count": 20,
   "id": "c6736df1-f705-4839-b19b-9407fd0a6aea",
   "metadata": {
    "executionInfo": {
     "elapsed": 307,
     "status": "ok",
     "timestamp": 1708129566120,
     "user": {
      "displayName": "LUC NGUYEN MANH",
      "userId": "17963881608411381207"
     },
     "user_tz": -540
    },
    "id": "c6736df1-f705-4839-b19b-9407fd0a6aea"
   },
   "outputs": [],
   "source": [
    "prompt_template = PromptTemplate(\n",
    "    input_variables=[\"instruction\", \"sql_table_1\", \"sql_table_2\", \"question\"], template=\"<s>[INST] <<SYS>>{instruction}. Here is structure of table 1 {sql_table_1}, table 2 {sql_table_2}<</SYS>>{question}[/INST]\")\n",
    "\n",
    "\n",
    "instruction = \"\"\"You are an agent designed to interact with a SQL database.\\nGiven an input question,\n",
    "create a syntactically correct teradatasql query to run, then look at the results of the query and return the answer.\"\"\"\n",
    "\n",
    "question = \"Calculate the separation between the 'item' and 'item_reference' tables using TD_VectorDistance.\"\n",
    "\n",
    "sql_table_1 = \"\"\"\n",
    "    CREATE TABLE item (\n",
    "        item_id INT PRIMARY KEY,\n",
    "        name VARCHAR(255),\n",
    "        description TEXT,\n",
    "        price DECIMAL(10, 2),\n",
    "        stock_quantity INT,\n",
    "        category VARCHAR(100),\n",
    "        weight INT,\n",
    "        color_id INT,\n",
    "        height INT,\n",
    "        width INT\n",
    "    );\n",
    "\"\"\"\n",
    "\n",
    "sql_table_2 = \"\"\"\n",
    "    CREATE TABLE item_reference (\n",
    "        item_id INT PRIMARY KEY,\n",
    "        name VARCHAR(255),\n",
    "        description TEXT,\n",
    "        price DECIMAL(10, 2),\n",
    "        stock_quantity INT,\n",
    "        category VARCHAR(100),\n",
    "        weight INT,\n",
    "        color_id INT,\n",
    "        height INT,\n",
    "        width INT\n",
    "    );\n",
    "\"\"\"\n",
    "\n",
    "input = prompt_template.format(instruction=instruction, sql_table_1=sql_table_1, sql_table_2=sql_table_2, question=question)"
   ]
  },
  {
   "cell_type": "code",
   "execution_count": 21,
   "id": "OvUIuEUOcB2v",
   "metadata": {
    "colab": {
     "base_uri": "https://localhost:8080/",
     "height": 140
    },
    "executionInfo": {
     "elapsed": 3,
     "status": "ok",
     "timestamp": 1708129566449,
     "user": {
      "displayName": "LUC NGUYEN MANH",
      "userId": "17963881608411381207"
     },
     "user_tz": -540
    },
    "id": "OvUIuEUOcB2v",
    "outputId": "d15f7bad-75de-45d0-b57b-8b17fcf07c23"
   },
   "outputs": [
    {
     "data": {
      "application/vnd.google.colaboratory.intrinsic+json": {
       "type": "string"
      },
      "text/plain": [
       "\"<s>[INST] <<SYS>>You are an agent designed to interact with a SQL database.\\nGiven an input question, \\ncreate a syntactically correct teradatasql query to run, then look at the results of the query and return the answer.. Here is structure of table 1 \\n    CREATE TABLE item (\\n        item_id INT PRIMARY KEY,\\n        name VARCHAR(255),\\n        description TEXT,\\n        price DECIMAL(10, 2),\\n        stock_quantity INT,\\n        category VARCHAR(100),\\n        weight INT,\\n        color_id INT,\\n        height INT,\\n        width INT\\n    );\\n, table 2 \\n    CREATE TABLE item_reference (\\n        item_id INT PRIMARY KEY,\\n        name VARCHAR(255),\\n        description TEXT,\\n        price DECIMAL(10, 2),\\n        stock_quantity INT,\\n        category VARCHAR(100),\\n        weight INT,\\n        color_id INT,\\n        height INT,\\n        width INT\\n    );\\n<</SYS>>Calculate the separation between the 'item' and 'item_reference' tables using TD_VectorDistance.[/INST]\""
      ]
     },
     "execution_count": 21,
     "metadata": {},
     "output_type": "execute_result"
    }
   ],
   "source": [
    "input"
   ]
  },
  {
   "cell_type": "code",
   "execution_count": 24,
   "id": "1a880cd6-0908-43d4-a9a4-e2caddc1b820",
   "metadata": {
    "executionInfo": {
     "elapsed": 39464,
     "status": "ok",
     "timestamp": 1708130059952,
     "user": {
      "displayName": "LUC NGUYEN MANH",
      "userId": "17963881608411381207"
     },
     "user_tz": -540
    },
    "id": "1a880cd6-0908-43d4-a9a4-e2caddc1b820"
   },
   "outputs": [],
   "source": [
    "# 5. Run prompt and pipeline\n",
    "result = pipe(input)"
   ]
  },
  {
   "cell_type": "code",
   "execution_count": 29,
   "id": "KuFTpN9PNdKm",
   "metadata": {
    "colab": {
     "base_uri": "https://localhost:8080/"
    },
    "executionInfo": {
     "elapsed": 531,
     "status": "ok",
     "timestamp": 1708130343286,
     "user": {
      "displayName": "LUC NGUYEN MANH",
      "userId": "17963881608411381207"
     },
     "user_tz": -540
    },
    "id": "KuFTpN9PNdKm",
    "outputId": "91d70df4-63c5-42c8-d990-ff609344029f"
   },
   "outputs": [
    {
     "name": "stdout",
     "output_type": "stream",
     "text": [
      "SELECT target_id, reference_id, distancetype, cast(distance as decimal(36,8)) as distance FROM TD_VECTORDISTANCE (\n",
      "    ON item AS TargetTable\n",
      "    ON item_reference AS ReferenceTable DIMENSION\n",
      "    USING\n",
      "        TargetIDColumn('item_id')\n",
      "        TargetFeatureColumns('price','stock_quantity','category','weight','color_id','height','width')\n",
      "        RefIDColumn('item_id')\n",
      "        RefFeatureColumns('price','stock_quantity','category','weight','color_id','height','width')\n",
      "        DistanceMeasure('euclidean','cosine','manhattan')\n",
      "        topk(2)\n",
      ") AS dt order by 3,1,2,4;</s>\n",
      "\n",
      "The TD_VectorDistance function is used in the query to calculate the distance between the 'item' and 'item_reference' tables. The TargetIDColumn, TargetFeatureColumns, RefIDColumn, RefFeatureColumns, DistanceMeasure, and topk parameters are used to define how the distance is calculated. The results are then organized in a table with the target ID, reference ID, distance type, and distance values. \n",
      "\n",
      "The TargetIDColumn parameter specifies the column or columns in the Target table that correspond to the TargetID column in the Distance table. The TargetFeatureColumns parameter specifies the column or columns in the Target table that correspond to the TargetFeature columns in the Distance table. The RefIDColumn parameter specifies the column or columns in the Reference table that correspond to the RefID column in the Distance table. The RefFeatureColumns parameter specifies the column or columns in the Reference table that correspond to the RefFeature columns in the Distance table. The DistanceMeasure parameter specifies the distance measure to use when calculating the distance between the Target and Reference tables. Finally, the topk parameter specifies the number of closest references to return for each target item.\n",
      "\n",
      "The query uses the TD_VectorDistance function to calculate the distance between the 'item' and 'item_reference' tables using the Euclidean distance, cosine distance, and Manhattan distance as the distance measures. The top 2 closest references are then returned for each target item.\n"
     ]
    }
   ],
   "source": [
    "print(result[0]['generated_text'].split(\"/INST\")[1][1:])"
   ]
  },
  {
   "cell_type": "code",
   "execution_count": null,
   "id": "9e081096-aba9-4214-bbbd-f6aa605c1b98",
   "metadata": {
    "id": "9e081096-aba9-4214-bbbd-f6aa605c1b98"
   },
   "outputs": [],
   "source": []
  }
 ],
 "metadata": {
  "accelerator": "GPU",
  "colab": {
   "gpuType": "T4",
   "provenance": []
  },
  "kernelspec": {
   "display_name": "Python 3 (ipykernel)",
   "language": "python",
   "name": "python3"
  },
  "language_info": {
   "codemirror_mode": {
    "name": "ipython",
    "version": 3
   },
   "file_extension": ".py",
   "mimetype": "text/x-python",
   "name": "python",
   "nbconvert_exporter": "python",
   "pygments_lexer": "ipython3",
   "version": "3.10.13"
  }
 },
 "nbformat": 4,
 "nbformat_minor": 5
}
